{
 "cells": [
  {
   "cell_type": "code",
   "execution_count": 1,
   "metadata": {},
   "outputs": [],
   "source": [
    "import numpy as np\n",
    "import matplotlib.pyplot as plt\n",
    "from tqdm.notebook import tqdm\n",
    "import os\n",
    "# from mpl_toolkits.axes_grid1 import make_axes_locatable\n",
    "from sklearn.decomposition import PCA\n",
    "import SimpleITK as sitk\n",
    "import pandas as pd\n",
    "\n",
    "import sys\n",
    "np.set_printoptions(threshold=sys.maxsize)"
   ]
  },
  {
   "cell_type": "markdown",
   "metadata": {},
   "source": [
    "## functions"
   ]
  },
  {
   "cell_type": "code",
   "execution_count": 4,
   "metadata": {},
   "outputs": [],
   "source": [
    "## function definition\n",
    "\n",
    "# function to convert DESI text file to numpy array\n",
    "def DESI_txt2numpy(desi_text):\n",
    "    \"\"\"\"\"\n",
    "    input:\n",
    "    desi_text - the location /name of the DESI text file\n",
    "    output:\n",
    "    peaks - 2D numpy array of DESI spectra with size [N_spectra x N_ions]\n",
    "    mz - 1D numpy array of ions' m/z values [N_ions]\n",
    "    dim_y - number of spectra in y axis\n",
    "    dim_x - number of spectra in x axis\n",
    "    (dim_y * dim_x = N_spectra)\n",
    "    \"\"\"\"\"\n",
    "    ##############################################\n",
    "    # inner function for getting the number of spectra without buffering vthe data\n",
    "    def num_lines_in_text(desi_text):\n",
    "\n",
    "        # inner function for creating the generator\n",
    "        def _count_generator(reader):\n",
    "            b = reader(1024 * 1024)\n",
    "            while b:\n",
    "                yield b\n",
    "                b = reader(1024 * 1024)\n",
    "  \n",
    "        with open(desi_text, 'rb') as read_obj:\n",
    "            c_generator = _count_generator(read_obj.raw.read)\n",
    "            # count each \\n\n",
    "            count = sum(buffer.count(b'\\n') for buffer in c_generator)\n",
    "            \"\"\"Enters while loop, which continues as long as b (the chunk of data) is not empty. \n",
    "            This means that it will keep reading and yielding chunks of data until there's nothing left to read.\"\"\"\n",
    "\n",
    "        return count\n",
    "    ##############################################\n",
    "    \n",
    "    print('file:', desi_text)\n",
    "\n",
    "    total = num_lines_in_text(desi_text)\n",
    "    print('spectra:', total-5)\n",
    "    \n",
    "    data = []\n",
    "    with open(desi_text, 'r') as read_obj:\n",
    "        for i,line in tqdm(enumerate(read_obj) , total=total):\n",
    "            x = line.split()\n",
    "            y = [float(num) for num in x]\n",
    "            data.append(y)\n",
    "            \n",
    "    ind = np.argsort(data[3]) # data[3] has unsorted m/z values\n",
    "    mz = np.take_along_axis(np.asarray(data[3]), ind, axis=0) # sort with indices\n",
    "\n",
    "    x, y = [], []\n",
    "    peaks = []\n",
    "    for i in tqdm(range(4,len(data)-1)):\n",
    "        x.append(data[i][1])\n",
    "        y.append(data[i][2])\n",
    "        p = np.asarray(data[i][3:-2])\n",
    "        p = np.take_along_axis(p, ind, axis=0)\n",
    "        p = np.expand_dims(p,axis=0)\n",
    "        peaks.append(p)\n",
    "    peaks = np.concatenate(peaks,axis=0)\n",
    "\n",
    "    ## find desi data dimension\n",
    "    t = np.asarray(x)\n",
    "    t = np.abs(np.diff(t))\n",
    "    dim_x = int(np.round(np.max(t)/np.min(t)))+1\n",
    "    t = np.asarray(y)\n",
    "    dim_y = int(np.round(np.abs(t[0]-t[-1])/np.max(np.abs(np.diff(t)))))+1\n",
    "    print('image dimension:',dim_y, 'x', dim_x)\n",
    "    \n",
    "    return peaks, mz, dim_y, dim_x\n",
    "\n",
    "# total ion current normalization (spectrum based)\n",
    "def tic_normalize(peaks):\n",
    "    tot_ion_cur = np.sum(peaks, axis=1)\n",
    "    peaks_ticn = np.empty(peaks.shape)\n",
    "    for i in range(len(peaks)):\n",
    "        if tot_ion_cur[i]!=0:\n",
    "            peaks_ticn[i] = peaks[i]/tot_ion_cur[i]\n",
    "    return peaks_ticn\n",
    "\n",
    "# normalize each ion in whole data to have min of 0 and max of 1 (ion based normalization)\n",
    "def ion_minmax_normalize(peaks):\n",
    "    max_ion_int = np.max(peaks, axis=0)\n",
    "    min_ion_int = np.min(peaks, axis=0)\n",
    "    peaks_ionorm = np.empty(peaks.shape)\n",
    "    for i in range(peaks.shape[1]):\n",
    "        if max_ion_int[i]!=min_ion_int[i]:\n",
    "            peaks_ionorm[:,i] = (peaks[:,i]-min_ion_int[i])/(max_ion_int[i]-min_ion_int[i])\n",
    "    return peaks_ionorm"
   ]
  },
  {
   "cell_type": "code",
   "execution_count": null,
   "metadata": {},
   "outputs": [],
   "source": [
    "def GetBinnedData(BinSize, Data):\n",
    "    #https://github.com/McDonnell-Lab/MALDI-UNISA-ML/blob/main/PrepareData_CRC.ipynb\n",
    "    # Calculate the total number of bins needed to span the range of m/z values\n",
    "    Overall_min_mzs = np.min(Data)\n",
    "    Overall_max_mzs = np.max(Data)\n",
    "    B = int((Overall_max_mzs - Overall_min_mzs) / BinSize) + 1\n",
    "    \n",
    "    # Define m/z bin boundaries that are linearly spaced between the minimum and maximum m/z\n",
    "    BinEdges = np.linspace(Overall_min_mzs, Overall_max_mzs, B)\n",
    "    \n",
    "    # Assign each m/z point used to the nearest bin\n",
    "    Mzs_binning_indices = np.digitize(Data, BinEdges)\n",
    "    \n",
    "    # Sum the intensities over each original m/z point assigned to each bin\n",
    "    Binned_intensities = np.zeros((Data.shape[0], B))\n",
    "    for i in range(Data.shape[0]):\n",
    "        for j in range(Data.shape[1]):\n",
    "            bin_idx = Mzs_binning_indices[i, j] - 1\n",
    "            Binned_intensities[i, bin_idx] += Data[i, j]\n",
    "    \n",
    "    return Binned_intensities"
   ]
  },
  {
   "cell_type": "code",
   "execution_count": null,
   "metadata": {},
   "outputs": [],
   "source": [
    "def logtransform(peaks):\n",
    "    #https://pubs.acs.org/doi/full/10.1021/acs.analchem.2c00097?casa_token=ns41wFfcqrsAAAAA%3Ax_g4l8NCXWlBJ1EWD3jkxa33J0Z6fcFq85RfkEOP3eKwzgUhqfKXWZLWfn3eemRvhEkqBcDLhP1Qlfc    \n",
    "    r = np.max(peaks)\n",
    "    b = 0.01 / (1 - 0.01 * r)\n",
    "\n",
    "    # log transform each intensity in whole data\n",
    "    peaks_trans = np.empty(peaks.shape)\n",
    "    for i in range(peaks.shape[1]):\n",
    "        peaks_trans[:,i] = b * np.log((1 + peaks[:,i]) / b)\n",
    "    return peaks_trans"
   ]
  },
  {
   "cell_type": "markdown",
   "metadata": {},
   "source": [
    "## covert text DESI to numpy array"
   ]
  },
  {
   "cell_type": "code",
   "execution_count": 16,
   "metadata": {},
   "outputs": [
    {
     "name": "stdout",
     "output_type": "stream",
     "text": [
      "file: C:\\Users\\tsang\\OneDrive - Queen's University\\DESI project\\DESI TXT colon\\DESI TXT colon\\2021 03 21 colon 0485699-1 Analyte 1\\2021 03 21 colon 0485699-1 Analyte 1.txt\n",
      "spectra: 44178\n"
     ]
    },
    {
     "data": {
      "application/vnd.jupyter.widget-view+json": {
       "model_id": "43d9678a45754dacba668392c5a3e889",
       "version_major": 2,
       "version_minor": 0
      },
      "text/plain": [
       "  0%|          | 0/44183 [00:00<?, ?it/s]"
      ]
     },
     "metadata": {},
     "output_type": "display_data"
    },
    {
     "data": {
      "application/vnd.jupyter.widget-view+json": {
       "model_id": "3e7ae92871cd409c862af93cda791c16",
       "version_major": 2,
       "version_minor": 0
      },
      "text/plain": [
       "  0%|          | 0/44178 [00:00<?, ?it/s]"
      ]
     },
     "metadata": {},
     "output_type": "display_data"
    },
    {
     "name": "stdout",
     "output_type": "stream",
     "text": [
      "image dimension: 222 x 199\n",
      "2021 03 21 colon 0485699-1 Analyte 1.txt\n",
      "(44178, 2000)\n",
      "(2000,)\n",
      "222 199\n",
      "(44178, 2000)\n",
      "file: C:\\Users\\tsang\\OneDrive - Queen's University\\DESI project\\DESI TXT colon\\DESI TXT colon\\2021 03 22 colon 0741403-1 Analyte 1\\2021 03 22 colon 0741403-1 Analyte 1.txt\n",
      "spectra: 53823\n"
     ]
    },
    {
     "data": {
      "application/vnd.jupyter.widget-view+json": {
       "model_id": "e115a2ae9fea497d9ad53903c192eb78",
       "version_major": 2,
       "version_minor": 0
      },
      "text/plain": [
       "  0%|          | 0/53828 [00:00<?, ?it/s]"
      ]
     },
     "metadata": {},
     "output_type": "display_data"
    },
    {
     "data": {
      "application/vnd.jupyter.widget-view+json": {
       "model_id": "3290cd9f3ca045d4870294501050cc3f",
       "version_major": 2,
       "version_minor": 0
      },
      "text/plain": [
       "  0%|          | 0/53823 [00:00<?, ?it/s]"
      ]
     },
     "metadata": {},
     "output_type": "display_data"
    },
    {
     "name": "stdout",
     "output_type": "stream",
     "text": [
      "image dimension: 231 x 233\n",
      "2021 03 22 colon 0741403-1 Analyte 1.txt\n",
      "(53823, 2000)\n",
      "(2000,)\n",
      "231 233\n",
      "(53823, 2000)\n",
      "file: C:\\Users\\tsang\\OneDrive - Queen's University\\DESI project\\DESI TXT colon\\DESI TXT colon\\2021 03 22 colon 0962695-1 Analyte 1\\2021 03 22 colon 0962695-1 Analyte 1.txt\n",
      "spectra: 43475\n"
     ]
    },
    {
     "data": {
      "application/vnd.jupyter.widget-view+json": {
       "model_id": "10a536c582fa437bb29e2e207bc13554",
       "version_major": 2,
       "version_minor": 0
      },
      "text/plain": [
       "  0%|          | 0/43480 [00:00<?, ?it/s]"
      ]
     },
     "metadata": {},
     "output_type": "display_data"
    },
    {
     "data": {
      "application/vnd.jupyter.widget-view+json": {
       "model_id": "8274f04bab254e4f83103fcf2477c195",
       "version_major": 2,
       "version_minor": 0
      },
      "text/plain": [
       "  0%|          | 0/43475 [00:00<?, ?it/s]"
      ]
     },
     "metadata": {},
     "output_type": "display_data"
    },
    {
     "name": "stdout",
     "output_type": "stream",
     "text": [
      "image dimension: 235 x 185\n",
      "2021 03 22 colon 0962695-1 Analyte 1.txt\n",
      "(43475, 2000)\n",
      "(2000,)\n",
      "235 185\n",
      "(43475, 2000)\n",
      "file: C:\\Users\\tsang\\OneDrive - Queen's University\\DESI project\\DESI TXT colon\\DESI TXT colon\\2021 03 23 colon 0116468-2 Analyte 1\\2021 03 23 colon 0116468-2 Analyte 1.txt\n",
      "spectra: 51980\n"
     ]
    },
    {
     "data": {
      "application/vnd.jupyter.widget-view+json": {
       "model_id": "3d946502521c4598a40f5eff5c128fbb",
       "version_major": 2,
       "version_minor": 0
      },
      "text/plain": [
       "  0%|          | 0/51985 [00:00<?, ?it/s]"
      ]
     },
     "metadata": {},
     "output_type": "display_data"
    },
    {
     "data": {
      "application/vnd.jupyter.widget-view+json": {
       "model_id": "0733f6bd1c25488890ac76427712291f",
       "version_major": 2,
       "version_minor": 0
      },
      "text/plain": [
       "  0%|          | 0/51980 [00:00<?, ?it/s]"
      ]
     },
     "metadata": {},
     "output_type": "display_data"
    },
    {
     "name": "stdout",
     "output_type": "stream",
     "text": [
      "image dimension: 230 x 226\n",
      "2021 03 23 colon 0116468-2 Analyte 1.txt\n",
      "(51980, 2000)\n",
      "(2000,)\n",
      "230 226\n",
      "(51980, 2000)\n",
      "file: C:\\Users\\tsang\\OneDrive - Queen's University\\DESI project\\DESI TXT colon\\DESI TXT colon\\2021 03 23 colon 1373665-2 Analyte 1\\2021 03 23 colon 1373665-2 Analyte 1.txt\n",
      "spectra: 46920\n"
     ]
    },
    {
     "data": {
      "application/vnd.jupyter.widget-view+json": {
       "model_id": "45c85b4b6ff74ba49bf3e9d0d4a2a1ea",
       "version_major": 2,
       "version_minor": 0
      },
      "text/plain": [
       "  0%|          | 0/46925 [00:00<?, ?it/s]"
      ]
     },
     "metadata": {},
     "output_type": "display_data"
    },
    {
     "data": {
      "application/vnd.jupyter.widget-view+json": {
       "model_id": "485736b2564f4f3c8e2d7e822184166c",
       "version_major": 2,
       "version_minor": 0
      },
      "text/plain": [
       "  0%|          | 0/46920 [00:00<?, ?it/s]"
      ]
     },
     "metadata": {},
     "output_type": "display_data"
    },
    {
     "name": "stdout",
     "output_type": "stream",
     "text": [
      "image dimension: 204 x 230\n",
      "2021 03 23 colon 1373665-2 Analyte 1.txt\n",
      "(46920, 2000)\n",
      "(2000,)\n",
      "204 230\n",
      "(46920, 2000)\n",
      "file: C:\\Users\\tsang\\OneDrive - Queen's University\\DESI project\\DESI TXT colon\\DESI TXT colon\\2021 03 29 colon 0122508-2 Analyte 3\\2021 03 29 colon 0122508-2 Analyte 3.txt\n",
      "spectra: 47502\n"
     ]
    },
    {
     "data": {
      "application/vnd.jupyter.widget-view+json": {
       "model_id": "8b991d2a30c04052978eee9cad5f5364",
       "version_major": 2,
       "version_minor": 0
      },
      "text/plain": [
       "  0%|          | 0/47507 [00:00<?, ?it/s]"
      ]
     },
     "metadata": {},
     "output_type": "display_data"
    },
    {
     "data": {
      "application/vnd.jupyter.widget-view+json": {
       "model_id": "d76f48bdfc3b46bd9c60adfdedf6c389",
       "version_major": 2,
       "version_minor": 0
      },
      "text/plain": [
       "  0%|          | 0/47502 [00:00<?, ?it/s]"
      ]
     },
     "metadata": {},
     "output_type": "display_data"
    },
    {
     "name": "stdout",
     "output_type": "stream",
     "text": [
      "image dimension: 203 x 234\n",
      "2021 03 29 colon 0122508-2 Analyte 3.txt\n",
      "(47502, 2000)\n",
      "(2000,)\n",
      "203 234\n",
      "(47502, 2000)\n",
      "file: C:\\Users\\tsang\\OneDrive - Queen's University\\DESI project\\DESI TXT colon\\DESI TXT colon\\2021 03 29 colon 0462641-2 Analyte 2\\2021 03 29 colon 0462641-2 Analyte 2.txt\n",
      "spectra: 50500\n"
     ]
    },
    {
     "data": {
      "application/vnd.jupyter.widget-view+json": {
       "model_id": "e2530ceaabae4fd793b3909c1720a5fc",
       "version_major": 2,
       "version_minor": 0
      },
      "text/plain": [
       "  0%|          | 0/50505 [00:00<?, ?it/s]"
      ]
     },
     "metadata": {},
     "output_type": "display_data"
    },
    {
     "data": {
      "application/vnd.jupyter.widget-view+json": {
       "model_id": "53f0866868ef43829c04a42ffbb00958",
       "version_major": 2,
       "version_minor": 0
      },
      "text/plain": [
       "  0%|          | 0/50500 [00:00<?, ?it/s]"
      ]
     },
     "metadata": {},
     "output_type": "display_data"
    },
    {
     "name": "stdout",
     "output_type": "stream",
     "text": [
      "image dimension: 250 x 202\n",
      "2021 03 29 colon 0462641-2 Analyte 2.txt\n",
      "(50500, 2000)\n",
      "(2000,)\n",
      "250 202\n",
      "(50500, 2000)\n",
      "file: C:\\Users\\tsang\\OneDrive - Queen's University\\DESI project\\DESI TXT colon\\DESI TXT colon\\2021 03 30 colon 0413337-2 Analyte 6\\2021 03 30 colon 0413337-2 Analyte 6.txt\n",
      "spectra: 53915\n"
     ]
    },
    {
     "data": {
      "application/vnd.jupyter.widget-view+json": {
       "model_id": "43612feba189401392b84d83c4d5bf43",
       "version_major": 2,
       "version_minor": 0
      },
      "text/plain": [
       "  0%|          | 0/53920 [00:00<?, ?it/s]"
      ]
     },
     "metadata": {},
     "output_type": "display_data"
    },
    {
     "data": {
      "application/vnd.jupyter.widget-view+json": {
       "model_id": "28ab1e99ae8143d8bf1732251456ad22",
       "version_major": 2,
       "version_minor": 0
      },
      "text/plain": [
       "  0%|          | 0/53915 [00:00<?, ?it/s]"
      ]
     },
     "metadata": {},
     "output_type": "display_data"
    },
    {
     "name": "stdout",
     "output_type": "stream",
     "text": [
      "image dimension: 205 x 263\n",
      "2021 03 30 colon 0413337-2 Analyte 6.txt\n",
      "(53915, 2000)\n",
      "(2000,)\n",
      "205 263\n",
      "(53915, 2000)\n",
      "file: C:\\Users\\tsang\\OneDrive - Queen's University\\DESI project\\DESI TXT colon\\DESI TXT colon\\2021 03 30 colon 0720931-3 Analyte 5\\2021 03 30 colon 0720931-3 Analyte 5.txt\n",
      "spectra: 52328\n"
     ]
    },
    {
     "data": {
      "application/vnd.jupyter.widget-view+json": {
       "model_id": "348d0f93dda2413db86a6afc55fdd465",
       "version_major": 2,
       "version_minor": 0
      },
      "text/plain": [
       "  0%|          | 0/52333 [00:00<?, ?it/s]"
      ]
     },
     "metadata": {},
     "output_type": "display_data"
    },
    {
     "data": {
      "application/vnd.jupyter.widget-view+json": {
       "model_id": "41247c9c75a444dc9f39fce4a3d3030b",
       "version_major": 2,
       "version_minor": 0
      },
      "text/plain": [
       "  0%|          | 0/52328 [00:00<?, ?it/s]"
      ]
     },
     "metadata": {},
     "output_type": "display_data"
    },
    {
     "name": "stdout",
     "output_type": "stream",
     "text": [
      "image dimension: 211 x 248\n",
      "2021 03 30 colon 0720931-3 Analyte 5.txt\n",
      "(52328, 2000)\n",
      "(2000,)\n",
      "211 248\n",
      "(52328, 2000)\n",
      "file: C:\\Users\\tsang\\OneDrive - Queen's University\\DESI project\\DESI TXT colon\\DESI TXT colon\\2021 03 31 colon 1258561-2 Analyte 7\\2021 03 31 colon 1258561-2 Analyte 7.txt\n",
      "spectra: 45012\n"
     ]
    },
    {
     "data": {
      "application/vnd.jupyter.widget-view+json": {
       "model_id": "46a999dfa3a44e59a2489dc6d6061c5e",
       "version_major": 2,
       "version_minor": 0
      },
      "text/plain": [
       "  0%|          | 0/45017 [00:00<?, ?it/s]"
      ]
     },
     "metadata": {},
     "output_type": "display_data"
    },
    {
     "data": {
      "application/vnd.jupyter.widget-view+json": {
       "model_id": "87d00777bd494b8390ac4d1eb7daf783",
       "version_major": 2,
       "version_minor": 0
      },
      "text/plain": [
       "  0%|          | 0/45012 [00:00<?, ?it/s]"
      ]
     },
     "metadata": {},
     "output_type": "display_data"
    },
    {
     "name": "stdout",
     "output_type": "stream",
     "text": [
      "image dimension: 186 x 242\n",
      "2021 03 31 colon 1258561-2 Analyte 7.txt\n",
      "(45012, 2000)\n",
      "(2000,)\n",
      "186 242\n",
      "(45012, 2000)\n"
     ]
    }
   ],
   "source": [
    "root_dir = r\"C:\\Users\\tsang\\OneDrive - Queen's University\\DESI project\\DESI TXT colon\\DESI TXT colon\"\n",
    "\n",
    "# Create a list to store the required information for each file\n",
    "file_info_list = []\n",
    "\n",
    "peaks_list = []\n",
    "\n",
    "# Walk through root_dir\n",
    "for dirpath, dirnames, filenames in os.walk(root_dir):\n",
    "    # Check if \"colon\" is in the directory name\n",
    "    if 'colon' in dirpath:\n",
    "        # If so, look for .txt files\n",
    "        for filename in filenames:\n",
    "            if 'colon' in filename:\n",
    "                if filename.endswith('.txt'):\n",
    "                    path = os.path.join(dirpath, filename)\n",
    "                    [peaks, mz, dim_y, dim_x] = DESI_txt2numpy(path)\n",
    "                    print(filename)\n",
    "                    print(peaks.shape)\n",
    "                    print(mz.shape)\n",
    "                    print(dim_y, dim_x)\n",
    "                    \n",
    "                    peaks = tic_normalize(peaks)\n",
    "                    peaks_norm = ion_minmax_normalize(peaks)\n",
    "                    peaks_norm = peaks_norm.astype(float)\n",
    "                    print(peaks_norm.shape)\n",
    "                    \n",
    "                    peaks_list.append(peaks_norm)\n",
    "\n",
    "                    # Remove the .txt extension from the filename\n",
    "                    #filename_without_ext = os.path.splitext(filename)[0]\n",
    "                    \n",
    "                    # Save peaks_norm as a np array in the same directory\n",
    "                    #np.savetxt(os.path.join(dirpath, f\"{filename_without_ext} array.txt\"), peaks_image, delimiter=\",\")\n",
    "                    \n",
    "                    # Add the required information to the list as a dictionary\n",
    "                    #file_info_list.append({'filename': filename_without_ext ,'peaks_shape': peaks.shape, 'mz_shape': mz.shape, 'dim_y': dim_y, 'dim_x': dim_x})\n",
    "                    #print(file_info_list[-1])\n",
    "\n",
    "\n"
   ]
  },
  {
   "cell_type": "code",
   "execution_count": null,
   "metadata": {},
   "outputs": [],
   "source": [
    "for file_info in file_info_list:\n",
    "    filename = file_info['filename'] + ' array.txt'\n",
    "    dim_y = file_info['dim_y']\n",
    "    dim_x = file_info['dim_x']\n",
    "    output_name = filename.replace(\"array\", \"dc-DeepMSI\")[:-4]\n",
    "    print(f\"python run.py --input_file \\\"C:\\\\Users\\\\jenni\\\\OneDrive - Queen's University\\\\DESI project\\\\DESI TXT colon\\\\DESI TXT colon\\\\{filename}\\\" --input_shape {dim_y} {dim_x} 2000 --mode spat-contig --output_file \\\"{output_name}\\\"\")"
   ]
  },
  {
   "cell_type": "code",
   "execution_count": null,
   "metadata": {},
   "outputs": [],
   "source": [
    "## read files, convert to matlab (or numpy), and save\n",
    "data_path = r\"C:\\Users\\jenni\\OneDrive - Queen's University\\DESI project\\DESI TXT colon\\DESI TXT colon\\2021 03 21 colon 0485699-1 Analyte 1\\2021 03 21 colon 0485699-1 Analyte 1.txt\"\n",
    "#slide_name = r\"2021 03 21 colon 0485699-1 Analyte 1.txt\"\n",
    "\n",
    "#file = os.path.join(data_path,slide_name)\n",
    "[peaks, mz, dim_y, dim_x] = DESI_txt2numpy(data_path)\n",
    "\n",
    "print(peaks.shape)\n",
    "print(mz.shape)\n",
    "print(dim_y, dim_x)\n",
    "\n",
    "np.savetxt(\"2021 03 22 colon 0741403-1 Analyte 1.csv\", peaks, delimiter = \",\")"
   ]
  },
  {
   "cell_type": "code",
   "execution_count": 17,
   "metadata": {},
   "outputs": [],
   "source": [
    "def batch_peak_alignment(arrays):\n",
    "    \"\"\"\n",
    "    OBJECTIVE:\n",
    "    to align m/z values from multiple MSI slides\n",
    "    DESCRIPTION:\n",
    "    the function will receive a list of numpy arrays containing the peak intensities for alignment\n",
    "    OUTPUT:\n",
    "    aligned_peaks - a concatenated 2-dimensional array of aligned peaks\n",
    "    \"\"\"\n",
    "    print('importing')\n",
    "    # Import\n",
    "    from scipy.signal import find_peaks\n",
    "\n",
    "    mz, peaks = [], []\n",
    "    for array in arrays:\n",
    "        mz.append(array[-1])  # Assuming the last dimension is m/z\n",
    "        peaks.append(array[:-1])  # All other dimensions are considered as peaks\n",
    "\n",
    "    mz_all = np.sort(np.concatenate(mz)).astype('float64')\n",
    "\n",
    "    ## cluster m/z values that are close to eachother\n",
    "    print('accumulating m/z values...')\n",
    "    mz_bandwidth = 0.01 #std of the estimated mz clusters\n",
    "    abundance_threshold = 0.4 #eliminate the least abundant peaks between slides\n",
    "    mz_resolution = 0.01 # m/z resolution for peak clustering\n",
    "    nsig = 4 # number of std in kernel width\n",
    "\n",
    "    # subband_start = 50\n",
    "    # subband_stop = 1200 \n",
    "    subband_start = np.round(mz_all.min()-nsig*mz_bandwidth, -1)-10  # 50 m/z range minimum\n",
    "    subband_stop = np.round(mz_all.max()+nsig*mz_bandwidth, -1)+10  # 1200 m/z range maximum\n",
    "    \n",
    "    # generate sample Gaussian kernel\n",
    "    x = np.arange(-nsig*mz_bandwidth,nsig*mz_bandwidth+1e-5,mz_resolution)\n",
    "    x = np.round(x, decimals=4)\n",
    "    gkerbel = np.exp(-0.5*(x/mz_bandwidth)**2)\n",
    "\n",
    "    mz_grid = np.arange(subband_start-1,subband_stop+1,mz_resolution)\n",
    "    mz_grid = np.round(mz_grid, decimals=4)\n",
    "\n",
    "    # find the kernel density distribution of all m/z values\n",
    "    kde_grid = np.zeros(mz_grid.shape)\n",
    "    width = int(len(gkerbel)/2)\n",
    "    for mzi in mz_all:\n",
    "        ind = np.argmin(np.abs(mz_grid-mzi))\n",
    "        kde_grid[ind-width:ind+width+1]+=gkerbel # 3x faster than convolution \n",
    "\n",
    "    # find the peak values as the selected m/z\n",
    "    locs, _ = find_peaks(kde_grid, height=0.5)\n",
    "\n",
    "    selected_mz = mz_grid[locs]\n",
    "    num_mz = len(selected_mz)\n",
    "\n",
    "    ## estimate the contribution of each slide in selected m/z\n",
    "    print('estimating the contribution of each csv...')\n",
    "    n_mz = len(selected_mz)\n",
    "    n_csv = len(mz)\n",
    "    new_mz = []\n",
    "\n",
    "    for i in range(n_csv):\n",
    "        x=[]\n",
    "        for j in range(n_mz):\n",
    "            x.append([])\n",
    "        new_mz.append(x)    \n",
    "\n",
    "    for i,old_mz in enumerate(mz):\n",
    "        for j,x in enumerate(old_mz):\n",
    "            diff = np.abs(selected_mz-x)\n",
    "            ind = diff.argmin()\n",
    "            new_mz[i][ind].append(x)\n",
    "\n",
    "    mz_df = pd.DataFrame(new_mz, columns=selected_mz)\n",
    "    \n",
    "    # eliminate the least repeated mz \n",
    "    num_sample_per_slide = np.array([x.shape[0] for x in peaks]).T\n",
    "\n",
    "    num_nonnan_mz = []\n",
    "    for j in range(n_mz):\n",
    "        x=0\n",
    "        for i in range(n_csv):\n",
    "            x += ( len(new_mz[i][j])>0 )*num_sample_per_slide[i]\n",
    "        num_nonnan_mz.append(x)\n",
    "\n",
    "    nonnan_threshold = int(abundance_threshold*np.sum(num_sample_per_slide))\n",
    "\n",
    "    kept_mz_ind = np.array(num_nonnan_mz) > nonnan_threshold\n",
    "    n_mz = kept_mz_ind.sum()\n",
    "    print('number of selected m/z:', n_mz)\n",
    "\n",
    "    new_mz_df = mz_df[mz_df.columns[kept_mz_ind]]\n",
    "    \n",
    "    # eliminate multiple m/z values\n",
    "    final_mz_df = pd.DataFrame(np.nan*np.ones([n_csv,n_mz]), columns=new_mz_df.columns)\n",
    "    for i in range(n_csv):\n",
    "        mz_old = mz[i]\n",
    "        pmean = peaks[i].mean(axis=0)/peaks[i].mean(axis=0).max()\n",
    "        for j in range(n_mz):\n",
    "            mz_cell = new_mz_df[new_mz_df.columns[j]][i]\n",
    "            if len(mz_cell)==0:\n",
    "                pass\n",
    "            elif len(mz_cell)==1:\n",
    "                final_mz_df[final_mz_df.columns[j]][i] = mz_cell[0]\n",
    "            else:\n",
    "                ind = [np.abs(x-mz_old).argmin() for x in mz_cell]\n",
    "                i_abundant = pmean[ind].argmax()\n",
    "                final_mz_df[final_mz_df.columns[j]][i] = mz_cell[i_abundant]\n",
    "                            \n",
    "\n",
    "    # correct the selected mz\n",
    "    mz_list = final_mz_df.to_numpy()\n",
    "    mz_selected_old = final_mz_df.columns\n",
    "    corrected_mz = []\n",
    "    for i in range( n_mz ):\n",
    "        col = mz_list[:,i]\n",
    "        col = col[~np.isnan(col)]\n",
    "        min_i = np.abs(col-mz_selected_old[i]).argmin()\n",
    "        corrected_mz.append( col[min_i] )\n",
    "\n",
    "    corrected_mz = np.array(corrected_mz)\n",
    "    final_mz_df.columns = corrected_mz\n",
    "\n",
    "    print('align peaks')\n",
    "    # align peaks\n",
    "    aligned_peaks = []\n",
    "    for i in range(n_csv):\n",
    "        mz_old = mz[i]\n",
    "        newp = np.nan * np.ones([len(peaks[i]), n_mz])\n",
    "        for j, col in enumerate(corrected_mz):\n",
    "            mz_val = final_mz_df[col][i]\n",
    "            if ~np.isnan(mz_val):\n",
    "                p_ind = np.where(mz_old == mz_val)[0]\n",
    "\n",
    "                print(peaks[i][:, p_ind].flatten().shape)\n",
    "                print(newp[:, j].shape)\n",
    "\n",
    "                newp[:, j] = peaks[i][:, p_ind].flatten()[:len(newp[:, j])]\n",
    "        aligned_peaks.append(newp)\n",
    "\n",
    "    aligned_peaks = np.concatenate(aligned_peaks, axis=0)\n",
    "\n",
    "    print(aligned_peaks.shape)\n",
    "\n",
    "    np.save('aligned_peaks.npy', aligned_peaks)\n"
   ]
  },
  {
   "cell_type": "code",
   "execution_count": 11,
   "metadata": {},
   "outputs": [
    {
     "name": "stdout",
     "output_type": "stream",
     "text": [
      "file: C:\\Users\\tsang\\OneDrive - Queen's University\\DESI project\\DESI TXT colon\\DESI TXT colon\\2021 03 21 colon 0485699-1 Analyte 1\\2021 03 21 colon 0485699-1 Analyte 1.txt\n",
      "spectra: 44178\n"
     ]
    },
    {
     "data": {
      "application/vnd.jupyter.widget-view+json": {
       "model_id": "556b165e5f47466fb395b27eec1a770e",
       "version_major": 2,
       "version_minor": 0
      },
      "text/plain": [
       "  0%|          | 0/44183 [00:00<?, ?it/s]"
      ]
     },
     "metadata": {},
     "output_type": "display_data"
    },
    {
     "data": {
      "application/vnd.jupyter.widget-view+json": {
       "model_id": "02c2a379046345f498bcc01bc25be661",
       "version_major": 2,
       "version_minor": 0
      },
      "text/plain": [
       "  0%|          | 0/44178 [00:00<?, ?it/s]"
      ]
     },
     "metadata": {},
     "output_type": "display_data"
    },
    {
     "name": "stdout",
     "output_type": "stream",
     "text": [
      "image dimension: 222 x 199\n",
      "(44178, 2000)\n",
      "(2000,)\n",
      "222 199\n",
      "file: C:\\Users\\tsang\\OneDrive - Queen's University\\DESI project\\DESI TXT colon\\DESI TXT colon\\2021 03 22 colon 0741403-1 Analyte 1\\2021 03 22 colon 0741403-1 Analyte 1.txt\n",
      "spectra: 53823\n"
     ]
    },
    {
     "data": {
      "application/vnd.jupyter.widget-view+json": {
       "model_id": "33efcd68db58452aa758de648986cad1",
       "version_major": 2,
       "version_minor": 0
      },
      "text/plain": [
       "  0%|          | 0/53828 [00:00<?, ?it/s]"
      ]
     },
     "metadata": {},
     "output_type": "display_data"
    },
    {
     "data": {
      "application/vnd.jupyter.widget-view+json": {
       "model_id": "7fa090fb80024bcea5c1275a5ff156ab",
       "version_major": 2,
       "version_minor": 0
      },
      "text/plain": [
       "  0%|          | 0/53823 [00:00<?, ?it/s]"
      ]
     },
     "metadata": {},
     "output_type": "display_data"
    },
    {
     "name": "stdout",
     "output_type": "stream",
     "text": [
      "image dimension: 231 x 233\n",
      "(53823, 2000)\n",
      "(2000,)\n",
      "231 233\n"
     ]
    }
   ],
   "source": [
    "## read files, convert to matlab (or numpy), and save\n",
    "data_path = r\"C:\\Users\\tsang\\OneDrive - Queen's University\\DESI project\\DESI TXT colon\\DESI TXT colon\\2021 03 21 colon 0485699-1 Analyte 1\\2021 03 21 colon 0485699-1 Analyte 1.txt\"\n",
    "data_path2 = r\"C:\\Users\\tsang\\OneDrive - Queen's University\\DESI project\\DESI TXT colon\\DESI TXT colon\\2021 03 22 colon 0741403-1 Analyte 1\\2021 03 22 colon 0741403-1 Analyte 1.txt\"\n",
    "\n",
    "#file = os.path.join(data_path,slide_name)\n",
    "[peaks, mz, dim_y, dim_x] = DESI_txt2numpy(data_path)\n",
    "\n",
    "print(peaks.shape)\n",
    "print(mz.shape)\n",
    "print(dim_y, dim_x)\n",
    "\n",
    "#file = os.path.join(data_path,slide_name)\n",
    "[peaks2, mz2, dim_y2, dim_x2] = DESI_txt2numpy(data_path2)\n",
    "\n",
    "print(peaks2.shape)\n",
    "print(mz2.shape)\n",
    "print(dim_y2, dim_x2)\n",
    "\n",
    "peaks_list = [peaks, peaks2]"
   ]
  },
  {
   "cell_type": "code",
   "execution_count": 18,
   "metadata": {},
   "outputs": [
    {
     "name": "stdout",
     "output_type": "stream",
     "text": [
      "importing\n",
      "accumulating m/z values...\n",
      "estimating the contribution of each csv...\n",
      "number of selected m/z: 6\n",
      "align peaks\n",
      "(44177,)\n",
      "(44177,)\n",
      "(44177,)\n",
      "(44177,)\n",
      "(44177,)\n",
      "(44177,)\n",
      "(44177,)\n",
      "(44177,)\n",
      "(44177,)\n",
      "(44177,)\n",
      "(53822,)\n",
      "(53822,)\n",
      "(53822,)\n",
      "(53822,)\n",
      "(53822,)\n",
      "(53822,)\n",
      "(53822,)\n",
      "(53822,)\n",
      "(43474,)\n",
      "(43474,)\n",
      "(43474,)\n",
      "(43474,)\n",
      "(43474,)\n",
      "(43474,)\n",
      "(43474,)\n",
      "(43474,)\n",
      "(43474,)\n",
      "(43474,)\n",
      "(43474,)\n",
      "(43474,)\n",
      "(51979,)\n",
      "(51979,)\n",
      "(51979,)\n",
      "(51979,)\n",
      "(51979,)\n",
      "(51979,)\n",
      "(51979,)\n",
      "(51979,)\n",
      "(93791081,)\n",
      "(46919,)\n",
      "(47501,)\n",
      "(47501,)\n",
      "(47501,)\n",
      "(47501,)\n",
      "(47501,)\n",
      "(47501,)\n",
      "(47501,)\n",
      "(47501,)\n",
      "(47501,)\n",
      "(47501,)\n",
      "(47501,)\n",
      "(47501,)\n",
      "(50499,)\n",
      "(50499,)\n",
      "(50499,)\n",
      "(50499,)\n",
      "(50499,)\n",
      "(50499,)\n",
      "(50499,)\n",
      "(50499,)\n",
      "(50499,)\n",
      "(50499,)\n",
      "(53914,)\n",
      "(53914,)\n",
      "(53914,)\n",
      "(53914,)\n",
      "(53914,)\n",
      "(53914,)\n",
      "(53914,)\n",
      "(53914,)\n",
      "(53914,)\n",
      "(53914,)\n",
      "(53914,)\n",
      "(53914,)\n",
      "(52327,)\n",
      "(52327,)\n",
      "(52327,)\n",
      "(52327,)\n",
      "(52327,)\n",
      "(52327,)\n",
      "(52327,)\n",
      "(52327,)\n",
      "(90022000,)\n",
      "(45011,)\n",
      "(489623, 6)\n"
     ]
    }
   ],
   "source": [
    "batch_peak_alignment(peaks_list)"
   ]
  },
  {
   "cell_type": "code",
   "execution_count": null,
   "metadata": {},
   "outputs": [],
   "source": [
    "import re\n",
    "\n",
    "def correct_scientific_notation(s):\n",
    "    \"\"\"Corrects the scientific notation in a string.\"\"\"\n",
    "    if isinstance(s, str):\n",
    "        return re.sub(r'(\\d+\\.\\d+e\\+\\d+)\\.\\d+', r'\\1', s)\n",
    "    return s"
   ]
  },
  {
   "cell_type": "code",
   "execution_count": null,
   "metadata": {},
   "outputs": [],
   "source": [
    "def batch_peak_alignments(arrays, csv_save_name):\n",
    "\t\t\"\"\"\"\n",
    "\t\tOBJECTIVE:\n",
    "\t\tto align m/z values from muliple MSI slides\n",
    "\t\tDESCRIPTION:\n",
    "\t\tthe finction will receive the location of the folder that contains all MSI csv data for alignment and svae the aligned csv in the same folder\n",
    "\t\tINPUTS:\n",
    "\t\tdata_dir - the name of the folder that conains the individual MSI csv files \n",
    "\t\tcsv_save_name - the name of the final aligned file\n",
    "\t\tAUTHOR:\n",
    "\t\t@Moon\n",
    "\t\t\"\"\"\n",
    "\t\t# Import\n",
    "\t\tfrom scipy.signal import find_peaks\n",
    "\t\t\n",
    "\t\tmz, peaks = [], []\n",
    "\t\tfor array in arrays:\n",
    "\t\t\tmz.append(array[-1])  # Assuming the last dimension is m/z\n",
    "\t\t\tpeaks.append(array[:-1])  # All other dimensions are considered as peaks\n",
    "\t\tprint('importing')\n",
    "\n",
    "\t\tmz_all = np.sort(np.concatenate(mz)).astype('float64')\n",
    "\t\t\n",
    "\t\t## cluster m/z values that are close to eachother\n",
    "\t\tprint('accumulating m/z values...')\n",
    "\t\tmz_bandwidth = 0.01 #std of the estimated mz clusters\n",
    "\t\tabundance_threshold = 0.4 #eliminate the least abundant peaks between slides\n",
    "\t\tmz_resolution = 0.01 # m/z resolution for peak clustering\n",
    "\t\tnsig = 4 # number of std in kernel width\n",
    "\n",
    "\t\t# subband_start = 50\n",
    "\t\t# subband_stop = 1200 \n",
    "\t\tsubband_start = np.round(mz_all.min()-nsig*mz_bandwidth, -1)-10  # 50 m/z range minimum\n",
    "\t\tsubband_stop = np.round(mz_all.max()+nsig*mz_bandwidth, -1)+10  # 1200 m/z range maximum\n",
    "\t\t\n",
    "\t\t# generate sample Gaussian kernel\n",
    "\t\tx = np.arange(-nsig*mz_bandwidth,nsig*mz_bandwidth+1e-5,mz_resolution)\n",
    "\t\tx = np.round(x, decimals=4)\n",
    "\t\tgkerbel = np.exp(-0.5*(x/mz_bandwidth)**2)\n",
    "\n",
    "\t\tmz_grid = np.arange(subband_start-1,subband_stop+1,mz_resolution)\n",
    "\t\tmz_grid = np.round(mz_grid, decimals=4)\n",
    "\n",
    "\t\t# find the kernel density distribution of all m/z values\n",
    "\t\tkde_grid = np.zeros(mz_grid.shape)\n",
    "\t\twidth = int(len(gkerbel)/2)\n",
    "\t\tfor mzi in mz_all:\n",
    "\t\t\tind = np.argmin(np.abs(mz_grid-mzi))\n",
    "\t\t\tkde_grid[ind-width:ind+width+1]+=gkerbel # 3x faster than convolution \n",
    "\n",
    "\t\t# find the peak values as the selected m/z\n",
    "\t\tlocs, _ = find_peaks(kde_grid, height=0.5)\n",
    "\n",
    "\t\tselected_mz = mz_grid[locs]\n",
    "\t\tnum_mz = len(selected_mz)\n",
    "\n",
    "\t\t## estimate the contribution of each slide in selected m/z\n",
    "\t\tprint('estimating the contribution of each csv...')\n",
    "\t\tn_mz = len(selected_mz)\n",
    "\t\tn_csv = len(mz)\n",
    "\t\tnew_mz = []\n",
    "\n",
    "\t\tfor i in range(n_csv):\n",
    "\t\t\tx=[]\n",
    "\t\t\tfor j in range(n_mz):\n",
    "\t\t\t\tx.append([])\n",
    "\t\t\tnew_mz.append(x)    \n",
    "\n",
    "\t\tfor i,old_mz in enumerate(mz):\n",
    "\t\t\tfor j,x in enumerate(old_mz):\n",
    "\t\t\t\tdiff = np.abs(selected_mz-x)\n",
    "\t\t\t\tind = diff.argmin()\n",
    "\t\t\t\tnew_mz[i][ind].append(x)\n",
    "\n",
    "\t\tmz_df = pd.DataFrame(new_mz, columns=selected_mz)\n",
    "\t\t\n",
    "\t\t# eliminate the least repeated mz \n",
    "\t\tnum_sample_per_slide = np.array([x.shape[0] for x in peaks]).T\n",
    "\n",
    "\t\tnum_nonnan_mz = []\n",
    "\t\tfor j in range(n_mz):\n",
    "\t\t\tx=0\n",
    "\t\t\tfor i in range(n_csv):\n",
    "\t\t\t\tx += ( len(new_mz[i][j])>0 )*num_sample_per_slide[i]\n",
    "\t\t\tnum_nonnan_mz.append(x)\n",
    "\n",
    "\t\tnonnan_threshold = int(abundance_threshold*np.sum(num_sample_per_slide))\n",
    "\n",
    "\t\tkept_mz_ind = np.array(num_nonnan_mz) > nonnan_threshold\n",
    "\t\tn_mz = kept_mz_ind.sum()\n",
    "\t\tprint('number of selected m/z:', n_mz)\n",
    "\n",
    "\t\tnew_mz_df = mz_df[mz_df.columns[kept_mz_ind]]\n",
    "\t\t\n",
    "\t\t# eliminate multiple m/z values\n",
    "\t\tfinal_mz_df = pd.DataFrame(np.nan*np.ones([n_csv,n_mz]), columns=new_mz_df.columns)\n",
    "\t\tfor i in range(n_csv):\n",
    "\t\t\tmz_old = mz[i]\n",
    "\t\t\tpmean = peaks[i].mean(axis=0)/peaks[i].mean(axis=0).max()\n",
    "\t\t\tfor j in range(n_mz):\n",
    "\t\t\t\tmz_cell = new_mz_df[new_mz_df.columns[j]][i]\n",
    "\t\t\t\tif len(mz_cell)==0:\n",
    "\t\t\t\t\tpass\n",
    "\t\t\t\telif len(mz_cell)==1:\n",
    "\t\t\t\t\tfinal_mz_df[final_mz_df.columns[j]][i] = mz_cell[0]\n",
    "\t\t\t\telse:\n",
    "\t\t\t\t\tind = [np.abs(x-mz_old).argmin() for x in mz_cell]\n",
    "\t\t\t\t\ti_abundant = pmean[ind].argmax()\n",
    "\t\t\t\t\tfinal_mz_df[final_mz_df.columns[j]][i] = mz_cell[i_abundant]\n",
    "\t\t\t\t\t\t\t\t\n",
    "\n",
    "\t\t# correct the selected mz\n",
    "\t\tmz_list = final_mz_df.to_numpy()\n",
    "\t\tmz_selected_old = final_mz_df.columns\n",
    "\t\tcorrected_mz = []\n",
    "\t\tfor i in range( n_mz ):\n",
    "\t\t\tcol = mz_list[:,i]\n",
    "\t\t\tcol = col[~np.isnan(col)]\n",
    "\t\t\tmin_i = np.abs(col-mz_selected_old[i]).argmin()\n",
    "\t\t\tcorrected_mz.append( col[min_i] )\n",
    "\n",
    "\t\tcorrected_mz = np.array(corrected_mz)\n",
    "\t\tfinal_mz_df.columns = corrected_mz\n",
    "\n",
    "\t\t# align peaks\n",
    "\t\taligned_peaks = []\n",
    "\t\tfor i in range(n_csv):\n",
    "\t\t\tmz_old = mz[i]\n",
    "\t\t\tnewp = np.nan*np.ones([len(peaks[i]),n_mz])\n",
    "\t\t\tfor j,col in enumerate(corrected_mz):\n",
    "\t\t\t\tmz_val = final_mz_df[col][i]\n",
    "\t\t\t\tif ~np.isnan(mz_val):\n",
    "\t\t\t\t\tp_ind = np.where(mz_old == mz_val)[0]\n",
    "\t\t\t\t\tif p_ind.size > 0:\n",
    "\t\t\t\t\t\tnewp[:,j] = np.mean(peaks[i][:,p_ind], axis=1)\n",
    "\t\t\taligned_peaks.append(newp)\n",
    "\n",
    "\t\taligned_peaks = np.concatenate(aligned_peaks, axis=0)\n",
    "\t\tprint(aligned_peaks.shape)\n",
    "\n",
    "\t\t# save aligned peaks\n",
    "\t\tcsv_data = aligned_peaks\n",
    "\t\tcsv_column = list(corrected_mz)\n",
    "\t\tdf = pd.DataFrame(csv_data, columns=csv_column)\n",
    "\t\tprint('saving the aligned peaks csv...')\n",
    "\t\tdf.to_csv(csv_save_name, index=False)\n",
    "\t\tprint('alignment done!')\n",
    "\n",
    "\t\t### report information\n",
    "\t\tretstr = 'Dataset successfully aligned! \\n'\n",
    "\t\tretstr += f'Aligned dataset:\\t {csv_save_name} \\n'\n",
    "\t\treturn retstr"
   ]
  },
  {
   "cell_type": "code",
   "execution_count": null,
   "metadata": {},
   "outputs": [],
   "source": [
    "csv_list = [r\"C:\\Users\\jenni\\OneDrive - Queen's University\\DESI project\\DESI TXT colon\\stuff\\Arrays csv\\2021 03 21 colon 0485699-1 Analyte 1 array.csv\", r\"C:\\Users\\jenni\\OneDrive - Queen's University\\DESI project\\DESI TXT colon\\stuff\\Arrays csv\\2021 03 22 colon 0741403-1 Analyte 1 array.csv\", r\"C:\\Users\\jenni\\OneDrive - Queen's University\\DESI project\\DESI TXT colon\\stuff\\Arrays csv\\2021 03 22 colon 0962695-1 Analyte 1 array.csv\"]"
   ]
  },
  {
   "cell_type": "markdown",
   "metadata": {},
   "source": [
    "## preprocessing"
   ]
  },
  {
   "cell_type": "code",
   "execution_count": null,
   "metadata": {},
   "outputs": [],
   "source": [
    "peaks = tic_normalize(peaks)\n",
    "peaks_norm = ion_minmax_normalize(peaks)\n",
    "print(peaks_norm.shape)\n",
    "\n",
    "#np.savetxt(\"2021 03 22 colon 0741403-1 Analyte 1.txt\", peaks_norm)\n"
   ]
  },
  {
   "cell_type": "code",
   "execution_count": null,
   "metadata": {},
   "outputs": [],
   "source": [
    "peaks_log = logtransform(peaks_norm)\n",
    "print(peaks_log[1:4])\n",
    "print(peaks_log.shape)"
   ]
  },
  {
   "cell_type": "code",
   "execution_count": null,
   "metadata": {},
   "outputs": [],
   "source": [
    "dz = 0.001\n",
    "print(max_ion_int, min_ion_int)\n",
    "\n",
    "peaks_binned = GetBinnedData(dz, peaks_norm)\n",
    "#print(peaks_binned[1:4])\n",
    "print(peaks_binned.shape)"
   ]
  },
  {
   "cell_type": "code",
   "execution_count": null,
   "metadata": {},
   "outputs": [],
   "source": [
    "np.savetxt(\"2021 03 22 colon 0741403-1 log10.txt\", peaks_log)"
   ]
  },
  {
   "cell_type": "markdown",
   "metadata": {},
   "source": [
    "## visualize single spectrum and single ion image"
   ]
  },
  {
   "cell_type": "code",
   "execution_count": null,
   "metadata": {},
   "outputs": [],
   "source": [
    "\n",
    "# reshape peaks to 3D (dim_y x dim_x x N_ions)\n",
    "peaks_image = peaks.reshape((dim_y,dim_x,-1),order='C')\n",
    "print(peaks_image.shape)\n",
    "\n",
    "#visualize a spectrum from a specific (x,y) location\n",
    "#ind_y = 100\n",
    "#ind_x = 170\n",
    "ind_y = dim_y - 1\n",
    "ind_x = dim_x - 1\n",
    "plt.figure(figsize=(10,3))\n",
    "plt.stem(mz, peaks_image[ind_y,ind_x,:], linefmt='k', markerfmt='k', basefmt='k')\n",
    "plt.xlabel('m/z')\n",
    "plt.ylabel('intensity')\n",
    "plt.title('mass spectrum at '+str([ind_y, ind_x]))\n",
    "plt.show()\n",
    "\n",
    "# visualize the peak intensity of a specific ion for all spectra\n",
    "ind_mz = 234\n",
    "plt.figure(figsize=(8,8))\n",
    "plt.imshow( peaks_image[:,:,ind_mz], cmap='plasma')\n",
    "plt.axis('off')\n",
    "plt.title('m/z = '+str(mz[ind_mz]))\n",
    "plt.show()\n"
   ]
  },
  {
   "cell_type": "markdown",
   "metadata": {},
   "source": [
    "## univariante combined visualization"
   ]
  },
  {
   "cell_type": "code",
   "execution_count": null,
   "metadata": {},
   "outputs": [],
   "source": [
    "# mz[np.argmin(np.abs(mz-277))]\n",
    "\n",
    "mz_r = 726.539\n",
    "mz_g = 766.5359\n",
    "mz_b = 277.0737\n",
    "\n",
    "# ch_r = np.argwhere(mz==mz_r)\n",
    "# ch_g = np.argwhere(mz==mz_g)\n",
    "# ch_b = np.argwhere(mz==mz_b)\n",
    "\n",
    "ch_r = np.argmin(np.abs(mz-mz_r))\n",
    "ch_g = np.argmin(np.abs(mz-mz_g))\n",
    "ch_b = np.argmin(np.abs(mz-mz_b))\n",
    "\n",
    "image_r = peaks_norm[:,ch_r].reshape((dim_y,dim_x,-1),order='C')\n",
    "image_g = peaks_norm[:,ch_g].reshape((dim_y,dim_x,-1),order='C')\n",
    "image_b = peaks_norm[:,ch_b].reshape((dim_y,dim_x,-1),order='C')\n",
    "image = np.concatenate([image_r,image_g,image_b], axis=2)\n",
    "\n",
    "int_scale = 2\n",
    "plt.figure(figsize=(8,8))\n",
    "plt.imshow(  np.clip(int_scale*image,0,1) , cmap='gray')\n",
    "plt.show()"
   ]
  },
  {
   "cell_type": "markdown",
   "metadata": {},
   "source": [
    "## multivaiant visualization"
   ]
  },
  {
   "cell_type": "code",
   "execution_count": null,
   "metadata": {},
   "outputs": [],
   "source": [
    "dim_reducion = PCA(n_components=3)\n",
    "\n",
    "peaks_pca = dim_reducion.fit_transform(peaks_norm)\n",
    "peaks_pca = ion_minmax_normalize(peaks_pca)\n",
    "pca_image = peaks_pca.reshape((dim_y,dim_x,-1),order='C')\n",
    "\n",
    "plt.figure(figsize=(8,8))\n",
    "plt.imshow(pca_image)\n",
    "plt.show()"
   ]
  },
  {
   "cell_type": "code",
   "execution_count": null,
   "metadata": {},
   "outputs": [],
   "source": [
    "#np.savetxt(\"2021 03 22 colon 0741403-1 PCA.txt\", peaks_pca)\n",
    "print(pca_image.shape)"
   ]
  },
  {
   "cell_type": "code",
   "execution_count": null,
   "metadata": {},
   "outputs": [],
   "source": [
    "dim_reduction = PCA(n_components=3)\n",
    "\n",
    "mask = sitk.ReadImage(r\"C:\\Users\\jenni\\OneDrive\\Documents\\DESI-Sampledata\\2021 03 21 colon 0485699_mask.png\")\n",
    "mask_array = sitk.GetArrayFromImage(mask)\n",
    "\n",
    "mask_reshaped = mask_array[:, :, 0].reshape((222, 199, 1))\n",
    "print(mask_reshaped[:, :, 0].shape) #testing\n",
    "\n",
    "peaks_image = peaks_norm.reshape((dim_y,dim_x,-1),order='C') #reshape peaks_norm to (222, 199, 2000)\n",
    "print(peaks_image.shape) #testing\n",
    "\n",
    "selected_spectra = peaks_image * mask_reshaped #try index instead to select areas\n",
    "\n",
    "num_rows, num_cols, num_channels = peaks_image.shape\n",
    "\n",
    "dim_reduction.fit(peaks_norm)\n",
    "\n",
    "pca_results = np.zeros((num_rows, num_cols, dim_reduction.n_components))  # Initialize the result array\n",
    "\n",
    "for i in range(num_rows):\n",
    "    for j in range(num_cols):\n",
    "        if mask_reshaped[i, j] == 255:\n",
    "            # Extract the region of interest (ROI) from the MSI data\n",
    "            roi = peaks_image[i, j, :].reshape(1, -1)  # Reshape to (1, num_channels)\n",
    "\n",
    "            # Perform PCA on the ROI using the pre-fitted PCA model\n",
    "            pca_result = dim_reduction.transform(roi)\n",
    "            pca_result = ion_minmax_normalize(pca_result)\n",
    "\n",
    "            # Store the PCA results in the corresponding location in the array\n",
    "            pca_results[i, j, :] = pca_result\n",
    "\n",
    "plt.figure(figsize=(8,8))\n",
    "plt.imshow(pca_results)\n",
    "plt.show()"
   ]
  },
  {
   "cell_type": "code",
   "execution_count": null,
   "metadata": {},
   "outputs": [],
   "source": [
    "dim_reduction = PCA(n_components=3)\n",
    "\n",
    "mask = sitk.ReadImage(r\"C:\\Users\\jenni\\OneDrive\\Documents\\DESI-Sampledata\\2021 03 21 colon 0485699_mask.png\")\n",
    "mask_array = sitk.GetArrayFromImage(mask)\n",
    "\n",
    "peaks_image = peaks_norm.reshape((dim_y,dim_x,-1),order='C') #reshape peaks_norm to (222, 199, 2000)\n",
    "print(peaks_image.shape) #testing\n",
    "\n",
    "#Get peaks_image shape information\n",
    "num_rows, num_cols, num_channels = peaks_image.shape\n",
    "\n",
    "\n",
    "# Step 1: Identify the ROI using the binary mask and create list of ij locations\n",
    "roi_indices = np.where(mask_array == 255)\n",
    "roi_pixels = list(zip(roi_indices[0], roi_indices[1]))\n",
    "\n",
    "# Step 2: Extract spectra from ROI pixels\n",
    "roi_spectra = []\n",
    "for i, j in roi_pixels:\n",
    "    # Extract the spectra for the current ROI pixel (i, j)\n",
    "    pixel_spectra = peaks_image[i, j]\n",
    "    roi_spectra.append(pixel_spectra)\n",
    "\n",
    "# Step 3: convert to np array\n",
    "roi_spectra_array = np.array(roi_spectra)\n",
    "\n",
    "# Step 4: Perform PCA\n",
    "\n",
    "# fit PCA\n",
    "dim_reduction.fit(roi_spectra_array)\n",
    "\n",
    "# Perform PCA and normalize\n",
    "roi_pca = dim_reduction.transform(roi_spectra_array)\n",
    "roi_pca = ion_minmax_normalize(roi_pca)\n",
    "\n",
    "# Create empty array and map PCA results from ROI back to the original dimensions (222, 199, 3)\n",
    "pca_results = np.zeros((num_rows, num_cols, dim_reduction.n_components))\n",
    "for idx, (i, j) in enumerate(roi_pixels):\n",
    "    pca_results[i, j, :] = roi_pca[idx]\n",
    "\n",
    "# # Plot results\n",
    "# plt.figure(figsize=(8, 8))\n",
    "# plt.imshow(pca_results)\n",
    "# plt.show()\n",
    "\n",
    "fig, axes = plt.subplots(1, 2, figsize=(12, 6))\n",
    "\n",
    "axes[0].imshow(pca_results, cmap='viridis')\n",
    "axes[0].set_title('PCA w/ Mask')\n",
    "\n",
    "axes[1].imshow(pca_image, cmap='viridis')\n",
    "axes[1].set_title('PCA Original')\n",
    "\n",
    "plt.show()\n"
   ]
  },
  {
   "cell_type": "code",
   "execution_count": null,
   "metadata": {},
   "outputs": [],
   "source": [
    "dim_reducion = PCA(n_components=3)\n",
    "\n",
    "mask = sitk.ReadImage(r\"C:\\Users\\jenni\\OneDrive\\Documents\\DESI-Sampledata\\2021 03 21 colon 0485699_mask.png\")\n",
    "mask_array = sitk.GetArrayFromImage(mask)\n",
    "\n",
    "\n",
    "mask_reshaped = mask_array[:, :, 0].reshape((222, 199, 1))\n",
    "print(mask_array[:, :, 0].shape)\n",
    "\n",
    "peaks_image = peaks_norm.reshape((dim_y,dim_x,-1),order='C') #reshape peaks_norm to (222, 199, 2000)\n",
    "print(peaks_image.shape) #testing\n",
    "\n",
    "selected_spectra = peaks_image * mask_reshaped #try index instead to select areas\n",
    "\n",
    "print(selected_spectra.shape)\n",
    "#try making a for loop to select pixels that are part of the mask and not, append the ij location of them. New array with PCA results\n",
    "selected_spectra_image = selected_spectra.reshape(dim_y*dim_x, -1) #Reshape image back to 2D array dim_y*dim_x, -1\n",
    "print(selected_spectra_image.shape) #testing\n",
    "\n",
    "peaks_pca = dim_reducion.fit_transform(selected_spectra_image)\n",
    "peaks_pca = ion_minmax_normalize(peaks_pca)\n",
    "\n",
    "print(peaks_pca.shape)\n",
    "pca_image = peaks_pca.reshape((222,199,-1),order='C')\n",
    "print(pca_image.shape)\n",
    "\n",
    "plt.figure(figsize=(8,8))\n",
    "plt.imshow(pca_image)\n",
    "plt.show()"
   ]
  }
 ],
 "metadata": {
  "kernelspec": {
   "display_name": "Python 3",
   "language": "python",
   "name": "python3"
  },
  "language_info": {
   "codemirror_mode": {
    "name": "ipython",
    "version": 3
   },
   "file_extension": ".py",
   "mimetype": "text/x-python",
   "name": "python",
   "nbconvert_exporter": "python",
   "pygments_lexer": "ipython3",
   "version": "3.11.5"
  }
 },
 "nbformat": 4,
 "nbformat_minor": 2
}
