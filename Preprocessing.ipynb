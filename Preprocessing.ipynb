{
 "cells": [
  {
   "cell_type": "code",
   "execution_count": 1,
   "metadata": {},
   "outputs": [],
   "source": [
    "import numpy as np\n",
    "import pandas as pd"
   ]
  },
  {
   "cell_type": "code",
   "execution_count": 2,
   "metadata": {},
   "outputs": [],
   "source": [
    "def tic_normalize(peaks):\n",
    "    tot_ion_cur = np.sum(peaks, axis=1)\n",
    "    peaks_ticn = np.empty(peaks.shape)\n",
    "    for i in range(len(peaks)):\n",
    "        if tot_ion_cur[i]!=0:\n",
    "            peaks_ticn[i] = peaks[i]/tot_ion_cur[i]\n",
    "    return peaks_ticn\n",
    "\n",
    "# normalize each ion in whole data to have min of 0 and max of 1 (ion based normalization)\n",
    "def ion_minmax_normalize(peaks):\n",
    "    max_ion_int = np.max(peaks, axis=0)\n",
    "    min_ion_int = np.min(peaks, axis=0)\n",
    "    peaks_ionorm = np.empty(peaks.shape)\n",
    "    for i in range(peaks.shape[1]):\n",
    "        if max_ion_int[i]!=min_ion_int[i]:\n",
    "            peaks_ionorm[:,i] = (peaks[:,i]-min_ion_int[i])/(max_ion_int[i]-min_ion_int[i])\n",
    "    return peaks_ionorm"
   ]
  },
  {
   "cell_type": "code",
   "execution_count": 3,
   "metadata": {},
   "outputs": [],
   "source": [
    "df = pd.read_csv(r\"C:\\Users\\jenni\\OneDrive - Queen's University\\DESI project\\DESI TXT colon\\Annotated Dataset\\2021 03 31 colon 1258561-2 all_aligned.csv\", index_col=0)"
   ]
  },
  {
   "cell_type": "code",
   "execution_count": 4,
   "metadata": {},
   "outputs": [],
   "source": [
    "peak_start_col = 4\n",
    "mz = np.array(df.columns[peak_start_col:], dtype='float')\n",
    "peaks = df[df.columns[peak_start_col:]].values\n",
    "\n",
    "labels =  df[df.columns[:peak_start_col]].values \n",
    "\n",
    "peaks = np.nan_to_num(peaks)"
   ]
  },
  {
   "cell_type": "code",
   "execution_count": 5,
   "metadata": {},
   "outputs": [],
   "source": [
    "#peaks = tic_normalize(peaks)\n",
    "peaks_norm = ion_minmax_normalize(peaks)"
   ]
  },
  {
   "cell_type": "code",
   "execution_count": 6,
   "metadata": {},
   "outputs": [],
   "source": [
    "csv_data = np.concatenate( [labels, peaks] , axis=1)\n",
    "csv_column = list(df.columns[:peak_start_col])+list(mz)\n",
    "df = pd.DataFrame(csv_data, columns=csv_column)\n",
    "\n",
    "print(df.head())"
   ]
  },
  {
   "cell_type": "code",
   "execution_count": null,
   "metadata": {},
   "outputs": [],
   "source": [
    "df.to_csv('all_aligned_processed', index=False)"
   ]
  }
 ],
 "metadata": {
  "kernelspec": {
   "display_name": "base",
   "language": "python",
   "name": "python3"
  },
  "language_info": {
   "codemirror_mode": {
    "name": "ipython",
    "version": 3
   },
   "file_extension": ".py",
   "mimetype": "text/x-python",
   "name": "python",
   "nbconvert_exporter": "python",
   "pygments_lexer": "ipython3",
   "version": "3.11.5"
  }
 },
 "nbformat": 4,
 "nbformat_minor": 2
}
